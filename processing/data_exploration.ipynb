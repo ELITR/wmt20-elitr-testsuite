{
 "cells": [
  {
   "cell_type": "code",
   "execution_count": 4,
   "metadata": {},
   "outputs": [
    {
     "name": "stdout",
     "output_type": "stream",
     "text": [
      "Loading data\n",
      "Removing bad lines\n",
      "Computing BLEU\n",
      "Loading data\n"
     ]
    }
   ],
   "source": [
    "import sys\n",
    "sys.path.insert(0, './src/results')\n",
    "import numpy as np\n",
    "from utils import PHNALL\n",
    "from load import load_all_p1, load_all_p2\n",
    "import pandas as pd\n",
    "\n",
    "data = load_all_p2(clear_badlines=True, add_bleu=True)\n",
    "dataP1 = load_all_p1()\n",
    "data['sev'] = data.apply(lambda row: sum([0 if np.isnan(row[phnName]) else row[phnName] for phnName in PHNALL]), axis=1)"
   ]
  },
  {
   "cell_type": "code",
   "execution_count": 87,
   "metadata": {},
   "outputs": [],
   "source": [
    "pd.options.display.max_colwidth = 90\n",
    "pd.options.display.max_rows = 70"
   ]
  },
  {
   "cell_type": "code",
   "execution_count": 96,
   "metadata": {},
   "outputs": [
    {
     "data": {
      "text/html": [
       "<div>\n",
       "<style scoped>\n",
       "    .dataframe tbody tr th:only-of-type {\n",
       "        vertical-align: middle;\n",
       "    }\n",
       "\n",
       "    .dataframe tbody tr th {\n",
       "        vertical-align: top;\n",
       "    }\n",
       "\n",
       "    .dataframe thead th {\n",
       "        text-align: right;\n",
       "    }\n",
       "</style>\n",
       "<table border=\"1\" class=\"dataframe\">\n",
       "  <thead>\n",
       "    <tr style=\"text-align: right;\">\n",
       "      <th></th>\n",
       "      <th>txt_tgt</th>\n",
       "      <th>sev</th>\n",
       "      <th>bleu</th>\n",
       "      <th>mkb</th>\n",
       "      <th>role</th>\n",
       "    </tr>\n",
       "  </thead>\n",
       "  <tbody>\n",
       "    <tr>\n",
       "      <th>447</th>\n",
       "      <td>During the evaluation of the management system, the control focused on the activities ...</td>\n",
       "      <td>2.25</td>\n",
       "      <td>24.081575</td>\n",
       "      <td>kontrola</td>\n",
       "      <td>NaN</td>\n",
       "    </tr>\n",
       "    <tr>\n",
       "      <th>448</th>\n",
       "      <td>During the evaluation of the management system, the audit focused on the activities ca...</td>\n",
       "      <td>2.25</td>\n",
       "      <td>24.790401</td>\n",
       "      <td>kontrola</td>\n",
       "      <td>NaN</td>\n",
       "    </tr>\n",
       "    <tr>\n",
       "      <th>451</th>\n",
       "      <td>During the evaluation of the management system, the audit focused on the activities ca...</td>\n",
       "      <td>2.25</td>\n",
       "      <td>23.341444</td>\n",
       "      <td>kontrola</td>\n",
       "      <td>NaN</td>\n",
       "    </tr>\n",
       "    <tr>\n",
       "      <th>453</th>\n",
       "      <td>During the evaluation of the management system, the audit focused on the activities ca...</td>\n",
       "      <td>2.25</td>\n",
       "      <td>22.043435</td>\n",
       "      <td>kontrola</td>\n",
       "      <td>NaN</td>\n",
       "    </tr>\n",
       "    <tr>\n",
       "      <th>3992</th>\n",
       "      <td>The Agreement of Cooperation between the Czech Supreme Audit Office (NKU) and the Supr...</td>\n",
       "      <td>1.75</td>\n",
       "      <td>100.000000</td>\n",
       "      <td>supreme</td>\n",
       "      <td>NaN</td>\n",
       "    </tr>\n",
       "    <tr>\n",
       "      <th>4169</th>\n",
       "      <td>The inspection carried out also included elements of the performance audit.</td>\n",
       "      <td>1.00</td>\n",
       "      <td>11.530568</td>\n",
       "      <td>kontrola</td>\n",
       "      <td>NaN</td>\n",
       "    </tr>\n",
       "    <tr>\n",
       "      <th>4412</th>\n",
       "      <td>Jak se opovažuješ? ' Thunbergův projev OSN inspiruje nizozemské klimatické protestující</td>\n",
       "      <td>1.00</td>\n",
       "      <td>4.340713</td>\n",
       "      <td>climate</td>\n",
       "      <td>NaN</td>\n",
       "    </tr>\n",
       "    <tr>\n",
       "      <th>4413</th>\n",
       "      <td>\"Jak se opovažuješ?\" Thunbergův projev OSN inspiruje nizozemské klimatické demonstranty</td>\n",
       "      <td>1.00</td>\n",
       "      <td>3.433102</td>\n",
       "      <td>climate</td>\n",
       "      <td>NaN</td>\n",
       "    </tr>\n",
       "    <tr>\n",
       "      <th>4483</th>\n",
       "      <td>Banging bicí a drží obrazy Thunbergu, protestující chodili do centra města s plakáty č...</td>\n",
       "      <td>1.75</td>\n",
       "      <td>2.002887</td>\n",
       "      <td>climate</td>\n",
       "      <td>NaN</td>\n",
       "    </tr>\n",
       "  </tbody>\n",
       "</table>\n",
       "</div>"
      ],
      "text/plain": [
       "                                                                                        txt_tgt  \\\n",
       "447   During the evaluation of the management system, the control focused on the activities ...   \n",
       "448   During the evaluation of the management system, the audit focused on the activities ca...   \n",
       "451   During the evaluation of the management system, the audit focused on the activities ca...   \n",
       "453   During the evaluation of the management system, the audit focused on the activities ca...   \n",
       "3992  The Agreement of Cooperation between the Czech Supreme Audit Office (NKU) and the Supr...   \n",
       "4169                The inspection carried out also included elements of the performance audit.   \n",
       "4412    Jak se opovažuješ? ' Thunbergův projev OSN inspiruje nizozemské klimatické protestující   \n",
       "4413    \"Jak se opovažuješ?\" Thunbergův projev OSN inspiruje nizozemské klimatické demonstranty   \n",
       "4483  Banging bicí a drží obrazy Thunbergu, protestující chodili do centra města s plakáty č...   \n",
       "\n",
       "       sev        bleu       mkb  role  \n",
       "447   2.25   24.081575  kontrola   NaN  \n",
       "448   2.25   24.790401  kontrola   NaN  \n",
       "451   2.25   23.341444  kontrola   NaN  \n",
       "453   2.25   22.043435  kontrola   NaN  \n",
       "3992  1.75  100.000000   supreme   NaN  \n",
       "4169  1.00   11.530568  kontrola   NaN  \n",
       "4412  1.00    4.340713   climate   NaN  \n",
       "4413  1.00    3.433102   climate   NaN  \n",
       "4483  1.75    2.002887   climate   NaN  "
      ]
     },
     "execution_count": 96,
     "metadata": {},
     "output_type": "execute_result"
    }
   ],
   "source": [
    "data[(data['style']>=0.75)][['txt_tgt', 'sev', 'bleu', 'mkb', 'role']]"
   ]
  },
  {
   "cell_type": "code",
   "execution_count": 100,
   "metadata": {},
   "outputs": [
    {
     "name": "stdout",
     "output_type": "stream",
     "text": [
      "user                                                                                               euroe-0\n",
      "doc                                                                                                  euroe\n",
      "domain                                                                                                news\n",
      "mkb                                                                                                climate\n",
      "model                                                                            newstest2020-online-a.sgm\n",
      "line                                                                                                     0\n",
      "mkbIndex                                                                                                 0\n",
      "txt_ref          'Jak se opovažujete?' projev Thunbergové v OSN inspiroval nizozemské protestující prot...\n",
      "txt_tgt            \"Jak se opovažuješ?\" Thunbergův projev OSN inspiruje nizozemské klimatické demonstranty\n",
      "lang                                                                                                    cs\n",
      "tootranslated                                                                                          NaN\n",
      "disappearance                                                                                          NaN\n",
      "typography                                                                                             NaN\n",
      "style                                                                                                 0.75\n",
      "nontranslated                                                                                          NaN\n",
      "terminology                                                                                            NaN\n",
      "inconsistency                                                                                          NaN\n",
      "sense                                                                                                  NaN\n",
      "role                                                                                                   NaN\n",
      "grammar                                                                                               0.25\n",
      "conflict                                                                                               NaN\n",
      "bleu                                                                                                3.4331\n",
      "sev                                                                                                      1\n",
      "Name: 4413, dtype: object\n",
      "'Jak se opovažujete?' projev Thunbergové v OSN inspiroval nizozemské protestující proti změnám klimatu\n",
      "\"Jak se opovažuješ?\" Thunbergův projev OSN inspiruje nizozemské klimatické demonstranty\n"
     ]
    }
   ],
   "source": [
    "index = 4413\n",
    "print(data.loc[index])\n",
    "print(data.loc[index]['txt_ref'])\n",
    "print(data.loc[index]['txt_tgt'])"
   ]
  },
  {
   "cell_type": "code",
   "execution_count": 19,
   "metadata": {},
   "outputs": [
    {
     "data": {
      "text/plain": [
       "0       0\n",
       "1       0\n",
       "2       0\n",
       "3       0\n",
       "4       0\n",
       "       ..\n",
       "359    27\n",
       "360    27\n",
       "361    27\n",
       "362    27\n",
       "363    27\n",
       "Name: line, Length: 364, dtype: int64"
      ]
     },
     "execution_count": 19,
     "metadata": {},
     "output_type": "execute_result"
    }
   ],
   "source": [
    "dataP1[(dataP1['doc'] == 'brouke')]['line']"
   ]
  },
  {
   "cell_type": "code",
   "execution_count": 14,
   "metadata": {},
   "outputs": [
    {
     "data": {
      "text/html": [
       "<div>\n",
       "<style scoped>\n",
       "    .dataframe tbody tr th:only-of-type {\n",
       "        vertical-align: middle;\n",
       "    }\n",
       "\n",
       "    .dataframe tbody tr th {\n",
       "        vertical-align: top;\n",
       "    }\n",
       "\n",
       "    .dataframe thead th {\n",
       "        text-align: right;\n",
       "    }\n",
       "</style>\n",
       "<table border=\"1\" class=\"dataframe\">\n",
       "  <thead>\n",
       "    <tr style=\"text-align: right;\">\n",
       "      <th></th>\n",
       "      <th>user</th>\n",
       "      <th>doc</th>\n",
       "      <th>line</th>\n",
       "      <th>model</th>\n",
       "      <th>txt_ref</th>\n",
       "      <th>txt_tgt</th>\n",
       "      <th>lang</th>\n",
       "      <th>errors</th>\n",
       "      <th>domain</th>\n",
       "      <th>fluency</th>\n",
       "      <th>adequacy</th>\n",
       "      <th>mult</th>\n",
       "    </tr>\n",
       "  </thead>\n",
       "  <tbody>\n",
       "  </tbody>\n",
       "</table>\n",
       "</div>"
      ],
      "text/plain": [
       "Empty DataFrame\n",
       "Columns: [user, doc, line, model, txt_ref, txt_tgt, lang, errors, domain, fluency, adequacy, mult]\n",
       "Index: []"
      ]
     },
     "execution_count": 14,
     "metadata": {},
     "output_type": "execute_result"
    }
   ],
   "source": [
    "SEARCH_STRING = 'povinno'\n",
    "# SEARCH_STRING = SEARCH_STRING.replace(r'\\niceuline{', '').replace('}', '')\n",
    "# data[data['txt_tgt'].str.contains(SEARCH_STRING)][PHNALL+['mkb', 'line', 'user', 'bleu']]\n",
    "dataP1[dataP1['txt_tgt'].str.contains(SEARCH_STRING)]"
   ]
  }
 ],
 "metadata": {
  "kernelspec": {
   "display_name": "Python 3",
   "language": "python",
   "name": "python3"
  },
  "language_info": {
   "codemirror_mode": {
    "name": "ipython",
    "version": 3
   },
   "file_extension": ".py",
   "mimetype": "text/x-python",
   "name": "python",
   "nbconvert_exporter": "python",
   "pygments_lexer": "ipython3",
   "version": "3.8.2"
  }
 },
 "nbformat": 4,
 "nbformat_minor": 2
}
